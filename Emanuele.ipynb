{
 "cells": [
  {
   "cell_type": "markdown",
   "id": "46c9a4e1-628c-4a6a-a41f-eb3f9901833f",
   "metadata": {},
   "source": [
    "PCLab#5 - Group 2 - Emanuele Sala, Luca Soleri, Fabio Stefana"
   ]
  },
  {
   "cell_type": "markdown",
   "id": "eb8de0ea-51ef-4752-84f4-4a685bc95211",
   "metadata": {},
   "source": [
    "<div style=\"border: 4px solid #007bff; padding: 10px; background-color: #e9f5ff; border-radius: 5px;\">\n",
    "    <h1 style=\"color: #007bff;\">Importing libraries and Dataset</h1>\n",
    "</div>\n"
   ]
  },
  {
   "cell_type": "code",
   "execution_count": 1,
   "id": "63ea0fff-1d3a-453b-8cfb-60cab09f3e46",
   "metadata": {},
   "outputs": [],
   "source": [
    "import pandas as pd\n",
    "import os"
   ]
  },
  {
   "cell_type": "code",
   "execution_count": 2,
   "id": "3f945631-57da-4f54-a7fb-e7039685746d",
   "metadata": {},
   "outputs": [],
   "source": [
    "directory = \"data/sigwatch_data\"\n",
    "df_list = []\n",
    "\n",
    "for file in os.listdir(directory):\n",
    "    if file.endswith(\".dta\"):\n",
    "        file_path = os.path.join(directory, file)\n",
    "        temp_df = pd.read_stata(file_path)\n",
    "        df_list.append(temp_df)\n",
    "        \n",
    "df = pd.concat(df_list, ignore_index=True)"
   ]
  },
  {
   "cell_type": "markdown",
   "id": "104fb569-7f87-4c05-98bd-40faeda213b6",
   "metadata": {},
   "source": [
    "<div style=\"border: 4px solid #007bff; padding: 10px; background-color: #e9f5ff; border-radius: 5px;\">\n",
    "    <h1 style=\"color: #007bff;\">Preliminary data exploration</h1>\n",
    "</div>"
   ]
  },
  {
   "cell_type": "code",
   "execution_count": null,
   "id": "5c896bfd-39b3-4d7d-a01d-55f96356c7cc",
   "metadata": {},
   "outputs": [],
   "source": [
    "# With this filter we keep only the banks\n",
    "df = df[df[\"corp_industry_sector1\"] == \"Finance\"]"
   ]
  },
  {
   "cell_type": "code",
   "execution_count": null,
   "id": "670aeac1-6bbd-4c2c-9d4d-8ee1c2558dd0",
   "metadata": {},
   "outputs": [],
   "source": [
    "# And with this filter we only keep the countries form the US, UK or EU\n",
    "countries = ['Austria',\n",
    "             'US',\n",
    "             'Denmark',\n",
    "             'UK',\n",
    "             'Germany',\n",
    "             'Luxembourg',\n",
    "             'France',\n",
    "             'Italy',\n",
    "             'Netherlands',\n",
    "             'Belgium',\n",
    "             'Sweden',\n",
    "             'Spain',\n",
    "             'Ireland',\n",
    "             'Portugal',\n",
    "             'Poland',\n",
    "             'Finland',\n",
    "             'USA',\n",
    "             'Croatia',\n",
    "             'Bulgaria',\n",
    "             'Montenegro',\n",
    "             'Bosnia and Herzegovina']\n",
    "\n",
    "df = df[df['country_corp'].isin(countries)]"
   ]
  },
  {
   "cell_type": "code",
   "execution_count": 13,
   "id": "8a8f2091-57c9-4064-8a64-95547e1549d0",
   "metadata": {},
   "outputs": [
    {
     "name": "stdout",
     "output_type": "stream",
     "text": [
      "There are 23151 unique campaigns for US UK and EU banks\n"
     ]
    }
   ],
   "source": [
    "# We count the unique number of ud_archive as some have more than one row but still count as one isngle campaing\n",
    "n_of_campaigns = len(list(df[\"uid_archive\"].unique()))\n",
    "print(f\"There are {n_of_campaigns} unique campaigns for US UK and EU banks\")"
   ]
  },
  {
   "cell_type": "code",
   "execution_count": 12,
   "id": "5baf485d-3af8-487a-a220-d1d91004a01d",
   "metadata": {},
   "outputs": [
    {
     "name": "stdout",
     "output_type": "stream",
     "text": [
      "There are 4800 unique NGO organizations involved in this dataset\n"
     ]
    }
   ],
   "source": [
    "list_of_ngo_columns = []\n",
    "for i in range(5):\n",
    "    i = i+1\n",
    "    ngo_column_number = f\"ngo_name{i}\"\n",
    "    ngo_col = list(df[ngo_column_number])\n",
    "    list_of_ngo_columns += ngo_col\n",
    "unique_ngos = list(set(list_of_ngo_columns))\n",
    "\n",
    "# we do -1 because we have to account for the null value\n",
    "print(f\"There are {len(unique_ngos) - 1} unique NGO organizations involved in this dataset\")"
   ]
  },
  {
   "cell_type": "code",
   "execution_count": null,
   "id": "38a84c67-64d6-49a5-bfc7-09587ccfac06",
   "metadata": {},
   "outputs": [],
   "source": [
    "# Numero di aziende targettate"
   ]
  },
  {
   "cell_type": "code",
   "execution_count": null,
   "id": "5c4d16f5-0ca2-49f6-9512-6079242c6b33",
   "metadata": {},
   "outputs": [],
   "source": [
    "columns_we_want = [\"uid_archive\", \n",
    "                   \"date\", \n",
    "                   \"company\",\n",
    "                   'country_corp', # Country of the Company\n",
    "                   'corp_industry_sector1', # Industry of the company\n",
    "                   'company_parent',\n",
    "                   'company_parent_country',\n",
    "                   \"sentiment\",\n",
    "                   'issue_name1',\n",
    "                   'issue_name2',\n",
    "                   'issue_name3']"
   ]
  },
  {
   "cell_type": "code",
   "execution_count": null,
   "id": "ed4daac4-7cea-451a-b66f-e961af076dd2",
   "metadata": {},
   "outputs": [],
   "source": []
  },
  {
   "cell_type": "code",
   "execution_count": null,
   "id": "63e57a4a-41f5-46ef-b552-d5dd46ad7e66",
   "metadata": {},
   "outputs": [],
   "source": []
  }
 ],
 "metadata": {
  "kernelspec": {
   "display_name": "Python 3 (ipykernel)",
   "language": "python",
   "name": "python3"
  },
  "language_info": {
   "codemirror_mode": {
    "name": "ipython",
    "version": 3
   },
   "file_extension": ".py",
   "mimetype": "text/x-python",
   "name": "python",
   "nbconvert_exporter": "python",
   "pygments_lexer": "ipython3",
   "version": "3.11.5"
  }
 },
 "nbformat": 4,
 "nbformat_minor": 5
}
